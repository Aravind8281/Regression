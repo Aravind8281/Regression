{
  "nbformat": 4,
  "nbformat_minor": 0,
  "metadata": {
    "colab": {
      "provenance": [],
      "authorship_tag": "ABX9TyOXSje1TOqvBX4LJpH+CsgQ",
      "include_colab_link": true
    },
    "kernelspec": {
      "name": "python3",
      "display_name": "Python 3"
    },
    "language_info": {
      "name": "python"
    }
  },
  "cells": [
    {
      "cell_type": "markdown",
      "metadata": {
        "id": "view-in-github",
        "colab_type": "text"
      },
      "source": [
        "<a href=\"https://colab.research.google.com/github/Aravind8281/Regression/blob/main/Quantile_Regression.ipynb\" target=\"_parent\"><img src=\"https://colab.research.google.com/assets/colab-badge.svg\" alt=\"Open In Colab\"/></a>"
      ]
    },
    {
      "cell_type": "code",
      "source": [
        "import numpy as np\n",
        "import pandas as pd\n",
        "from sklearn.model_selection import train_test_split\n",
        "from sklearn.ensemble import GradientBoostingRegressor\n",
        "from sklearn.metrics import mean_squared_error, mean_absolute_error, r2_score, median_absolute_error\n",
        "\n",
        "# Generate some random data for demonstration\n",
        "np.random.seed(42)\n",
        "X = np.random.rand(100, 1)\n",
        "y = 2 * X.squeeze() + 1 + np.random.randn(100)\n",
        "\n",
        "# Create a DataFrame from the data\n",
        "data = pd.DataFrame({'X': X.squeeze(), 'y': y})\n",
        "\n",
        "# Split the data into training and testing sets\n",
        "X_train, X_test, y_train, y_test = train_test_split(data[['X']], data['y'], test_size=0.2, random_state=42)\n",
        "\n",
        "# Fit Quantile Regression model (Gradient Boosting)\n",
        "quantiles = [0.25, 0.5, 0.75]\n",
        "quantile_preds = []\n",
        "\n",
        "for quantile in quantiles:\n",
        "    model = GradientBoostingRegressor(loss='quantile', alpha=quantile, n_estimators=100, random_state=42)\n",
        "    model.fit(X_train, y_train)\n",
        "    quantile_preds.append(model.predict(X_test))\n",
        "\n",
        "# Evaluate the model\n",
        "for i, quantile in enumerate(quantiles):\n",
        "    mse = mean_squared_error(y_test, quantile_preds[i])\n",
        "    mae = mean_absolute_error(y_test, quantile_preds[i])\n",
        "    r2 = r2_score(y_test, quantile_preds[i])\n",
        "    medae = median_absolute_error(y_test, quantile_preds[i])\n",
        "\n",
        "    print(f'\\nResults for Quantile {quantile}:')\n",
        "    print(f'Mean Squared Error (MSE): {mse:.2f}')\n",
        "    print(f'Mean Absolute Error (MAE): {mae:.2f}')\n",
        "    print(f'R-squared (R2): {r2:.2f}')\n",
        "    print(f'Median Absolute Error (MedAE): {medae:.2f}')\n"
      ],
      "metadata": {
        "colab": {
          "base_uri": "https://localhost:8080/"
        },
        "id": "qvkxqHoKcLW_",
        "outputId": "5a006aab-4f15-4066-9861-0e527c86971c"
      },
      "execution_count": 36,
      "outputs": [
        {
          "output_type": "stream",
          "name": "stdout",
          "text": [
            "\n",
            "Results for Quantile 0.25:\n",
            "Mean Squared Error (MSE): 1.12\n",
            "Mean Absolute Error (MAE): 0.78\n",
            "R-squared (R2): -0.46\n",
            "Median Absolute Error (MedAE): 0.64\n",
            "\n",
            "Results for Quantile 0.5:\n",
            "Mean Squared Error (MSE): 0.67\n",
            "Mean Absolute Error (MAE): 0.59\n",
            "R-squared (R2): 0.13\n",
            "Median Absolute Error (MedAE): 0.45\n",
            "\n",
            "Results for Quantile 0.75:\n",
            "Mean Squared Error (MSE): 0.67\n",
            "Mean Absolute Error (MAE): 0.64\n",
            "R-squared (R2): 0.13\n",
            "Median Absolute Error (MedAE): 0.38\n"
          ]
        }
      ]
    },
    {
      "cell_type": "code",
      "source": [],
      "metadata": {
        "id": "rb2OSdZjcLh2"
      },
      "execution_count": null,
      "outputs": []
    }
  ]
}