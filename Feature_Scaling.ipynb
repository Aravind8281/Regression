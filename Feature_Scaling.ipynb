{
  "nbformat": 4,
  "nbformat_minor": 0,
  "metadata": {
    "colab": {
      "provenance": [],
      "authorship_tag": "ABX9TyPdHmU6QxwMetutFsel+8hg",
      "include_colab_link": true
    },
    "kernelspec": {
      "name": "python3",
      "display_name": "Python 3"
    },
    "language_info": {
      "name": "python"
    }
  },
  "cells": [
    {
      "cell_type": "markdown",
      "metadata": {
        "id": "view-in-github",
        "colab_type": "text"
      },
      "source": [
        "<a href=\"https://colab.research.google.com/github/Aravind8281/Regression/blob/main/Feature_Scaling.ipynb\" target=\"_parent\"><img src=\"https://colab.research.google.com/assets/colab-badge.svg\" alt=\"Open In Colab\"/></a>"
      ]
    },
    {
      "cell_type": "code",
      "source": [
        "import numpy as np\n",
        "from sklearn.preprocessing import MinMaxScaler, StandardScaler\n",
        "from sklearn.model_selection import train_test_split\n",
        "from sklearn.linear_model import ElasticNet\n",
        "from sklearn.metrics import mean_squared_error, mean_absolute_error, r2_score\n",
        "from sklearn.datasets import load_diabetes\n",
        "\n",
        "diabetes = load_diabetes()\n",
        "X = diabetes.data\n",
        "y = diabetes.target\n",
        "\n",
        "X_train, X_test, y_train, y_test = train_test_split(X, y, test_size=0.2, random_state=42)\n",
        "\n",
        "min_max_scaler = MinMaxScaler()\n",
        "X_train_minmax = min_max_scaler.fit_transform(X_train)\n",
        "X_test_minmax = min_max_scaler.transform(X_test)\n",
        "\n",
        "standard_scaler = StandardScaler()\n",
        "X_train_standardized = standard_scaler.fit_transform(X_train)\n",
        "X_test_standardized = standard_scaler.transform(X_test)\n",
        "\n",
        "elastic_net_minmax = ElasticNet(alpha=0.1, l1_ratio=0.5, random_state=42)\n",
        "elastic_net_minmax.fit(X_train_minmax, y_train)\n",
        "y_pred_minmax = elastic_net_minmax.predict(X_test_minmax)\n",
        "\n",
        "mse_minmax = mean_squared_error(y_test, y_pred_minmax)\n",
        "mae_minmax = mean_absolute_error(y_test, y_pred_minmax)\n",
        "r2_minmax = r2_score(y_test, y_pred_minmax)\n",
        "\n",
        "elastic_net_standardized = ElasticNet(alpha=0.1, l1_ratio=0.5, random_state=42)\n",
        "elastic_net_standardized.fit(X_train_standardized, y_train)\n",
        "y_pred_standardized = elastic_net_standardized.predict(X_test_standardized)\n",
        "\n",
        "mse_standardized = mean_squared_error(y_test, y_pred_standardized)\n",
        "mae_standardized = mean_absolute_error(y_test, y_pred_standardized)\n",
        "r2_standardized = r2_score(y_test, y_pred_standardized)\n",
        "\n",
        "print(\"Results on Min-Max Scaled features:\")\n",
        "print(f'Mean Squared Error (MSE): {mse_minmax:.2f}')\n",
        "print(f'Mean Absolute Error (MAE): {mae_minmax:.2f}')\n",
        "print(f'R-squared (R2): {r2_minmax:.2f}\\n')\n",
        "\n",
        "print(\"Results on Standardized features:\")\n",
        "print(f'Mean Squared Error (MSE): {mse_standardized:.2f}')\n",
        "print(f'Mean Absolute Error (MAE): {mae_standardized:.2f}')\n",
        "print(f'R-squared (R2): {r2_standardized:.2f}')\n"
      ],
      "metadata": {
        "colab": {
          "base_uri": "https://localhost:8080/"
        },
        "id": "qvkxqHoKcLW_",
        "outputId": "bc503b7d-21c5-4792-d8b6-b51ade65fec9"
      },
      "execution_count": 34,
      "outputs": [
        {
          "output_type": "stream",
          "name": "stdout",
          "text": [
            "Results on Min-Max Scaled features:\n",
            "Mean Squared Error (MSE): 3140.15\n",
            "Mean Absolute Error (MAE): 47.02\n",
            "R-squared (R2): 0.41\n",
            "\n",
            "Results on Standardized features:\n",
            "Mean Squared Error (MSE): 2866.46\n",
            "Mean Absolute Error (MAE): 42.87\n",
            "R-squared (R2): 0.46\n"
          ]
        }
      ]
    },
    {
      "cell_type": "code",
      "source": [],
      "metadata": {
        "id": "rb2OSdZjcLh2"
      },
      "execution_count": null,
      "outputs": []
    }
  ]
}